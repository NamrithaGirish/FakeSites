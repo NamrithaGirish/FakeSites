{
  "nbformat": 4,
  "nbformat_minor": 0,
  "metadata": {
    "colab": {
      "name": "FAKE SITE DETECTION.ipynb",
      "provenance": [],
      "collapsed_sections": []
    },
    "kernelspec": {
      "name": "python3",
      "display_name": "Python 3"
    },
    "language_info": {
      "name": "python"
    }
  },
  "cells": [
    {
      "cell_type": "code",
      "execution_count": 33,
      "metadata": {
        "id": "by8_qxpAwz8p",
        "colab": {
          "base_uri": "https://localhost:8080/"
        },
        "outputId": "cb2eb988-4af1-410a-abfc-da239e2c4059"
      },
      "outputs": [
        {
          "output_type": "execute_result",
          "data": {
            "text/plain": [
              "['fake-news-site']"
            ]
          },
          "metadata": {},
          "execution_count": 33
        }
      ],
      "source": [
        "#FAKE NEWS SITE DETECTION\n",
        "import pandas as pd\n",
        "df=pd.read_csv(\"/content/data.csv\")\n",
        "\n",
        "#REMOVING UNDESIRED COLUMNS\n",
        "df=df.drop([\"Headline\",\"Body\"],axis=1)\n",
        "\n",
        "#INPUT OUTPUT DIVISION\n",
        "x=df.iloc[:,0].values\n",
        "y=df.iloc[:,1].values\n",
        "\n",
        "#LOGISTIC REGRESSION\n",
        "from sklearn.model_selection import train_test_split\n",
        "x_train,x_test,y_train,y_test=train_test_split(x,y,random_state=0)\n",
        "\n",
        "#TFIDF AND SVM\n",
        "from sklearn.feature_extraction.text import TfidfVectorizer\n",
        "from sklearn.svm import SVC\n",
        "from sklearn.pipeline import make_pipeline\n",
        "text_model=make_pipeline(TfidfVectorizer(),SVC())\n",
        "text_model.fit(x_train,y_train)\n",
        "\n",
        "#PREDICTION\n",
        "y_pred=text_model.predict(x_test)\n",
        "\n",
        "#DEPLOYMENT FILE CREATION\n",
        "import joblib\n",
        "joblib.dump(text_model,'fake-news-site')"
      ]
    }
  ]
}