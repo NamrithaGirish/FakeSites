{
  "nbformat": 4,
  "nbformat_minor": 0,
  "metadata": {
    "colab": {
      "name": "FAKE-NEWS-SITE-TEMP-DEPLOY.ipynb",
      "provenance": [],
      "collapsed_sections": []
    },
    "kernelspec": {
      "name": "python3",
      "display_name": "Python 3"
    },
    "language_info": {
      "name": "python"
    }
  },
  "cells": [
    {
      "cell_type": "code",
      "execution_count": 2,
      "metadata": {
        "id": "le8B1hKH-Drt"
      },
      "outputs": [],
      "source": [
        "!pip install streamlit --quiet"
      ]
    },
    {
      "cell_type": "code",
      "source": [
        "%%writefile fakenews.py\n",
        "import streamlit as st\n",
        "import joblib\n",
        "model=joblib.load('fake-news-site')\n",
        "st.title(\"FAKE NEWS WEBSITE DETECTOR\")\n",
        "ip=st.text_input(\"WEBSITE URL/NAME\")\n",
        "input=''\n",
        "for i in ip:\n",
        "  if i.isspace():\n",
        "    continue\n",
        "  else:\n",
        "    input+=i\n",
        "op=model.predict([input])\n",
        "if st.button(\"CHECK\"):\n",
        "  if op[0]==0:\n",
        "    st.header(\"FAKE NEWS WEBSITE\")\n",
        "  else :\n",
        "    st.header(\"LEGITIMATE NEWS WEBSITE\")"
      ],
      "metadata": {
        "id": "ZInNKfUI-Maf"
      },
      "execution_count": null,
      "outputs": []
    },
    {
      "cell_type": "code",
      "source": [
        "!streamlit run fakenews.py &npx localtunnel --port 8501"
      ],
      "metadata": {
        "id": "SXb-cWcc-PqQ"
      },
      "execution_count": null,
      "outputs": []
    }
  ]
}