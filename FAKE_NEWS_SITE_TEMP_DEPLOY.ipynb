{
  "nbformat": 4,
  "nbformat_minor": 0,
  "metadata": {
    "colab": {
      "name": "FAKE-NEWS-SITE-TEMP-DEPLOY.ipynb",
      "provenance": [],
      "collapsed_sections": []
    },
    "kernelspec": {
      "name": "python3",
      "display_name": "Python 3"
    },
    "language_info": {
      "name": "python"
    }
  },
  "cells": [
    {
      "cell_type": "code",
      "execution_count": 2,
      "metadata": {
        "id": "le8B1hKH-Drt"
      },
      "outputs": [],
      "source": [
        "!pip install streamlit --quiet"
      ]
    },
    {
      "cell_type": "code",
      "source": [
        "%%writefile fakenews.py\n",
        "import streamlit as st\n",
        "import joblib\n",
        "model=joblib.load('fake-news-site')\n",
        "st.title(\"FAKE NEWS WEBSITE DETECTOR\")\n",
        "ip=st.text_input(\"WEBSITE URL/NAME\")\n",
        "input=''\n",
        "for i in ip:\n",
        "  if i.isspace():\n",
        "    continue\n",
        "  else:\n",
        "    input+=i\n",
        "op=model.predict([input])\n",
        "if st.button(\"CHECK\"):\n",
        "  if op[0]==0:\n",
        "    st.header(\"FAKE NEWS WEBSITE\")\n",
        "  else :\n",
        "    st.header(\"LEGITIMATE NEWS WEBSITE\")"
      ],
      "metadata": {
        "colab": {
          "base_uri": "https://localhost:8080/"
        },
        "id": "ZInNKfUI-Maf",
        "outputId": "6f7d317b-4fa6-4180-fd67-f84813a1edb2"
      },
      "execution_count": 14,
      "outputs": [
        {
          "output_type": "stream",
          "name": "stdout",
          "text": [
            "Writing fakenews.py\n"
          ]
        }
      ]
    },
    {
      "cell_type": "code",
      "source": [
        "!streamlit run fakenews.py &npx localtunnel --port 8501"
      ],
      "metadata": {
        "colab": {
          "base_uri": "https://localhost:8080/"
        },
        "id": "SXb-cWcc-PqQ",
        "outputId": "20ea1e29-4f8c-41f9-f654-15a4aee6dc6a"
      },
      "execution_count": 15,
      "outputs": [
        {
          "output_type": "stream",
          "name": "stdout",
          "text": [
            "2022-07-09 13:10:32.479 INFO    numexpr.utils: NumExpr defaulting to 2 threads.\n",
            "\u001b[K\u001b[?25hnpx: installed 22 in 2.331s\n",
            "\u001b[0m\n",
            "\u001b[34m\u001b[1m  You can now view your Streamlit app in your browser.\u001b[0m\n",
            "\u001b[0m\n",
            "\u001b[34m  Network URL: \u001b[0m\u001b[1mhttp://172.28.0.2:8501\u001b[0m\n",
            "\u001b[34m  External URL: \u001b[0m\u001b[1mhttp://35.237.82.76:8501\u001b[0m\n",
            "\u001b[0m\n",
            "your url is: https://deep-news-change-35-237-82-76.loca.lt\n",
            "\u001b[34m  Stopping...\u001b[0m\n",
            "^C\n"
          ]
        }
      ]
    }
  ]
}