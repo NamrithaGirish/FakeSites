{
  "nbformat": 4,
  "nbformat_minor": 0,
  "metadata": {
    "colab": {
      "name": "FAKE NEWS DETECTION.ipynb",
      "provenance": [],
      "collapsed_sections": []
    },
    "kernelspec": {
      "name": "python3",
      "display_name": "Python 3"
    },
    "language_info": {
      "name": "python"
    }
  },
  "cells": [
    {
      "cell_type": "code",
      "execution_count": 22,
      "metadata": {
        "id": "by8_qxpAwz8p",
        "colab": {
          "base_uri": "https://localhost:8080/"
        },
        "outputId": "dad8d1e4-b166-4728-f151-239ff7a54356"
      },
      "outputs": [
        {
          "output_type": "execute_result",
          "data": {
            "text/plain": [
              "['fake-news']"
            ]
          },
          "metadata": {},
          "execution_count": 22
        }
      ],
      "source": [
        "#FAKE NEWS DETECTION\n",
        "import pandas as pd\n",
        "df=pd.read_csv(\"/content/data.csv\")\n",
        "\n",
        "#REMOVING UNDESIRED COLUMNS\n",
        "df=df.drop([\"Headline\",\"Body\"],axis=1)\n",
        "\n",
        "#INPUT OUTPUT DIVISION\n",
        "x=df.iloc[:,0].values\n",
        "y=df.iloc[:,1].values\n",
        "\n",
        "#LOGISTIC REGRESSION\n",
        "from sklearn.model_selection import train_test_split\n",
        "x_train,x_test,y_train,y_test=train_test_split(x,y,random_state=0)\n",
        "\n",
        "#TFIDF AND SVM\n",
        "from sklearn.feature_extraction.text import TfidfVectorizer\n",
        "from sklearn.svm import SVC\n",
        "from sklearn.pipeline import make_pipeline\n",
        "text_model=make_pipeline(TfidfVectorizer(),SVC())\n",
        "text_model.fit(x_train,y_train)\n",
        "\n",
        "#PREDICTION\n",
        "y_pred=text_model.predict(x_test)\n",
        "\n",
        "#TEMPORARY DEPLOYMENT\n",
        "import joblib\n",
        "joblib.dump(text_model,'fake-news')"
      ]
    },
    {
      "cell_type": "code",
      "source": [
        "!pip install streamlit --quiet"
      ],
      "metadata": {
        "id": "CKH_1F__r0wa"
      },
      "execution_count": 23,
      "outputs": []
    },
    {
      "cell_type": "code",
      "source": [
        "%%writefile fakenews.py\n",
        "import streamlit as st\n",
        "import joblib\n",
        "model=joblib.load('fake-news')\n",
        "st.title(\"FAKE SITE DETECTOR\")\n",
        "ip=st.text_input(\"WEBSITE URL/NAME\")\n",
        "input=''\n",
        "for i in ip:\n",
        "  if i.isspace():\n",
        "    continue\n",
        "  else:\n",
        "    input+=i\n",
        "op=model.predict([input])\n",
        "if st.button(\"CHECK\"):\n",
        "  if op[0]==0:\n",
        "    st.title(\"FAKE SITE\")\n",
        "  else :\n",
        "    st.title(\"GENUINE SITE\")"
      ],
      "metadata": {
        "colab": {
          "base_uri": "https://localhost:8080/"
        },
        "id": "7sht5M4wstcE",
        "outputId": "cd4dc05c-b890-4747-ac38-705f281373d4"
      },
      "execution_count": 24,
      "outputs": [
        {
          "output_type": "stream",
          "name": "stdout",
          "text": [
            "Overwriting fakenews.py\n"
          ]
        }
      ]
    },
    {
      "cell_type": "code",
      "source": [
        "!streamlit run fakenews.py &npx localtunnel --port 8501"
      ],
      "metadata": {
        "colab": {
          "base_uri": "https://localhost:8080/"
        },
        "id": "WQA-Pn-PuDuZ",
        "outputId": "fa049d82-b0f8-4748-eec3-e343c9470be5"
      },
      "execution_count": 21,
      "outputs": [
        {
          "output_type": "stream",
          "name": "stdout",
          "text": [
            "2022-07-09 11:57:40.318 INFO    numexpr.utils: NumExpr defaulting to 2 threads.\n",
            "\u001b[K\u001b[?25hnpx: installed 22 in 5.531s\n",
            "\u001b[0m\n",
            "\u001b[34m\u001b[1m  You can now view your Streamlit app in your browser.\u001b[0m\n",
            "\u001b[0m\n",
            "\u001b[34m  Network URL: \u001b[0m\u001b[1mhttp://172.28.0.2:8501\u001b[0m\n",
            "\u001b[34m  External URL: \u001b[0m\u001b[1mhttp://35.184.61.134:8501\u001b[0m\n",
            "\u001b[0m\n",
            "your url is: https://stale-rivers-sip-35-184-61-134.loca.lt\n",
            "\u001b[34m  Stopping...\u001b[0m\n",
            "^C\n"
          ]
        }
      ]
    }
  ]
}