{
  "nbformat": 4,
  "nbformat_minor": 0,
  "metadata": {
    "colab": {
      "name": "FAKE NEWS DETECTION.ipynb",
      "provenance": [],
      "collapsed_sections": []
    },
    "kernelspec": {
      "name": "python3",
      "display_name": "Python 3"
    },
    "language_info": {
      "name": "python"
    }
  },
  "cells": [
    {
      "cell_type": "code",
      "execution_count": 22,
      "metadata": {
        "id": "by8_qxpAwz8p",
        "colab": {
          "base_uri": "https://localhost:8080/"
        },
        "outputId": "dad8d1e4-b166-4728-f151-239ff7a54356"
      },
      "outputs": [
        {
          "output_type": "execute_result",
          "data": {
            "text/plain": [
              "['fake-news']"
            ]
          },
          "metadata": {},
          "execution_count": 22
        }
      ],
      "source": [
        "#FAKE NEWS DETECTION\n",
        "import pandas as pd\n",
        "df=pd.read_csv(\"/content/data.csv\")\n",
        "\n",
        "#REMOVING UNDESIRED COLUMNS\n",
        "df=df.drop([\"Headline\",\"Body\"],axis=1)\n",
        "\n",
        "#INPUT OUTPUT DIVISION\n",
        "x=df.iloc[:,0].values\n",
        "y=df.iloc[:,1].values\n",
        "\n",
        "#LOGISTIC REGRESSION\n",
        "from sklearn.model_selection import train_test_split\n",
        "x_train,x_test,y_train,y_test=train_test_split(x,y,random_state=0)\n",
        "\n",
        "#TFIDF AND SVM\n",
        "from sklearn.feature_extraction.text import TfidfVectorizer\n",
        "from sklearn.svm import SVC\n",
        "from sklearn.pipeline import make_pipeline\n",
        "text_model=make_pipeline(TfidfVectorizer(),SVC())\n",
        "text_model.fit(x_train,y_train)\n",
        "\n",
        "#PREDICTION\n",
        "y_pred=text_model.predict(x_test)\n",
        "\n",
        "#TEMPORARY DEPLOYMENT\n",
        "import joblib\n",
        "joblib.dump(text_model,'fake-news')"
      ]
    }
  ]
}